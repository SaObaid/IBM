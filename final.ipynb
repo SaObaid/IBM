{
 "cells": [
  {
   "cell_type": "markdown",
   "id": "8d62b2c1-08fc-4174-b125-f1db0323285f",
   "metadata": {},
   "source": [
    "# My Jupyter Notebook on IBM Watson Studio"
   ]
  },
  {
   "cell_type": "markdown",
   "id": "a21748fb-7493-4c37-8b2c-5a6d8848f4aa",
   "metadata": {},
   "source": [
    "**introduction** <p> Student </p>"
   ]
  },
  {
   "cell_type": "markdown",
   "id": "591f3fb1-31b0-49cd-b1a8-b57ec8243c7f",
   "metadata": {},
   "source": [
    " List of data Science lung.\n",
    " <ul>\n",
    "  <li>Python</li>\n",
    "  <li>R</li>\n",
    "  <li>SQL</li>\n",
    "  <li>Java</li>\n",
    "  <li>JavaScript</li>\n",
    "  <li>C/C++</li>\n",
    "  <li>MATLAB</li>\n",
    "  <li>SAS</li>\n",
    "  <li>Go</li>\n",
    "</ul>"
   ]
  },
  {
   "cell_type": "markdown",
   "id": "6b9db9a3-37cd-4c70-86da-57cb5a62e43a",
   "metadata": {},
   "source": [
    " List of Libraries for Data Science.\n",
    " <ul>\n",
    "  <li>TensorFlow</li>\n",
    "  <li>NumPy</li>\n",
    "  <li>SciPy</li>\n",
    "  <li>Pandas</li>\n",
    "  <li>Matplotlib</li>\n",
    "  <li>Keras</li>\n",
    "  <li>PyTorch</li>\n",
    "  <li>Scrapy</li>\n",
    "  <li>BeautifulSoup</li>\n",
    "</ul>"
   ]
  },
  {
   "cell_type": "markdown",
   "id": "cb176e7f-1ae3-4ed9-af0b-0e69e2e066d5",
   "metadata": {},
   "source": [
    "Table of Data Science tools\n",
    "<P>\n",
    "<table>\n",
    "  <tr>\n",
    "    <th>No</th>\n",
    "    <th>Name</th>\n",
    "    \n",
    "  </tr>\n",
    "  <tr>\n",
    "    <td>1</td>\n",
    "    <td>GitHub</td>\n",
    "  </tr>\n",
    "  <tr>\n",
    "    <td>2</td>\n",
    "    <td>Jupyter Notebooks</td>\n",
    "  </tr>\n",
    "  <tr>\n",
    "    <td>3</td>\n",
    "    <td> RStudio IDE</td>\n",
    "  </tr>\n",
    "\n",
    "    "
   ]
  },
  {
   "cell_type": "code",
   "execution_count": 14,
   "id": "515872b0-8d41-4b3a-a648-4a322540b542",
   "metadata": {},
   "outputs": [
    {
     "data": {
      "text/plain": [
       "52"
      ]
     },
     "execution_count": 14,
     "metadata": {},
     "output_type": "execute_result"
    }
   ],
   "source": [
    "#This code will add numbers\n",
    "(20+32)"
   ]
  },
  {
   "cell_type": "code",
   "execution_count": 7,
   "id": "0f1dcddb-5416-4049-9a7d-27a67498e008",
   "metadata": {},
   "outputs": [
    {
     "data": {
      "text/plain": [
       "632"
      ]
     },
     "execution_count": 7,
     "metadata": {},
     "output_type": "execute_result"
    }
   ],
   "source": [
    "#this code will multiply and add numbers\n",
    "(30*21)+2"
   ]
  },
  {
   "cell_type": "code",
   "execution_count": 13,
   "id": "f339da88-b354-49fd-8785-764ca265fbe4",
   "metadata": {},
   "outputs": [
    {
     "data": {
      "text/plain": [
       "3.3333333333333335"
      ]
     },
     "execution_count": 13,
     "metadata": {},
     "output_type": "execute_result"
    }
   ],
   "source": [
    "#This will convert 200 minutes to hours by diving by 60\n",
    "\n",
    "200/60"
   ]
  },
  {
   "cell_type": "markdown",
   "id": "741ae342-ab26-4a21-81d6-f74c1eb0dd92",
   "metadata": {},
   "source": [
    " List of Objectives\n",
    " <ul>\n",
    "  <li>Objective1</li>\n",
    "  <li>Objective2</li>\n",
    "  <li>Objective3</li>\n",
    "</ul>\n"
   ]
  },
  {
   "cell_type": "markdown",
   "id": "b7e6a0a0-b095-4ce4-9579-c4acb189a005",
   "metadata": {},
   "source": [
    "**S.Obaid**"
   ]
  },
  {
   "cell_type": "code",
   "execution_count": null,
   "id": "3aeca4f1-faa0-42ae-88c1-8959ce7c24ef",
   "metadata": {},
   "outputs": [],
   "source": []
  }
 ],
 "metadata": {
  "kernelspec": {
   "display_name": "Python",
   "language": "python",
   "name": "conda-env-python-py"
  },
  "language_info": {
   "codemirror_mode": {
    "name": "ipython",
    "version": 3
   },
   "file_extension": ".py",
   "mimetype": "text/x-python",
   "name": "python",
   "nbconvert_exporter": "python",
   "pygments_lexer": "ipython3",
   "version": "3.7.12"
  }
 },
 "nbformat": 4,
 "nbformat_minor": 5
}
